{
 "cells": [
  {
   "cell_type": "markdown",
   "metadata": {},
   "source": [
    "# **Cloud Computing Assignement**"
   ]
  },
  {
   "cell_type": "markdown",
   "metadata": {},
   "source": [
    "**Introduction** : This code is meant for the automation for the set up and the deployement of our distributed computing enviroment that consists of various elements including DynamoDB tables, SQS queues, and EC2 instances .We are going to deploy a web application where the user can retreive valuable informations about the air quality  according to  various criteria(location, date, range .....),The script is loaded with error handlers for easier debugging.\n",
    "\n",
    "**Attention !!** : You can find further information about the execution in the file \"Instructions.pdf\"."
   ]
  },
  {
   "cell_type": "markdown",
   "metadata": {},
   "source": [
    "**Package Installation** "
   ]
  },
  {
   "cell_type": "code",
   "execution_count": 1,
   "metadata": {},
   "outputs": [],
   "source": [
    "#pip install boto3\n",
    "#pip install subprocess\n",
    "#pip install paramiko\n",
    "#pip install time "
   ]
  },
  {
   "cell_type": "markdown",
   "metadata": {},
   "source": [
    "**Libraries importation**"
   ]
  },
  {
   "cell_type": "code",
   "execution_count": 2,
   "metadata": {},
   "outputs": [],
   "source": [
    "import boto3\n",
    "import subprocess\n",
    "import time\n",
    "import paramiko"
   ]
  },
  {
   "cell_type": "markdown",
   "metadata": {},
   "source": [
    "**Defining the necessary functions**"
   ]
  },
  {
   "cell_type": "markdown",
   "metadata": {},
   "source": [
    "We will start by defining a function for the creation of a DynamoDB table meant for the storage of the air quality data"
   ]
  },
  {
   "cell_type": "code",
   "execution_count": 3,
   "metadata": {},
   "outputs": [],
   "source": [
    "def create_DB(dynamoDB):\n",
    "        table = dynamoDB.create_table(\n",
    "        TableName='QualityAirTable',\n",
    "        KeySchema=[{'AttributeName': 'id', 'KeyType': 'HASH'}],\n",
    "        AttributeDefinitions=[{'AttributeName': 'id', 'AttributeType': 'S'}],\n",
    "        ProvisionedThroughput={'ReadCapacityUnits': 1000, 'WriteCapacityUnits': 1000}\n",
    "        )\n",
    "        table.wait_until_exists()\n",
    "        return table"
   ]
  },
  {
   "cell_type": "markdown",
   "metadata": {},
   "source": [
    "We will define a function for setting the sqs queues "
   ]
  },
  {
   "cell_type": "code",
   "execution_count": 4,
   "metadata": {},
   "outputs": [],
   "source": [
    "def create_sqs_queue(SQS, queue_name):\n",
    "    try:\n",
    "        response = SQS.create_queue(QueueName=queue_name)\n",
    "        print(f\"Queue '{queue_name}' created successfully. URL: {response['QueueUrl']}\")\n",
    "        return response['QueueUrl']\n",
    "    except Exception as e:\n",
    "        print(f\"Error creating SQS queue '{queue_name}': {e}\")\n",
    "        return None"
   ]
  },
  {
   "cell_type": "markdown",
   "metadata": {},
   "source": [
    "We will define the function meant for the launching of the EC2 instances by handling the creation, waiting for it to become running, and providing details about the instance once it's ready"
   ]
  },
  {
   "cell_type": "code",
   "execution_count": 5,
   "metadata": {},
   "outputs": [],
   "source": [
    "def create_instance(ec2, ami_id, instance_type, security_group_ids, key_name, user_data_script, instance_name):\n",
    "    try:\n",
    "        instances = ec2.run_instances(\n",
    "            ImageId=ami_id,\n",
    "            MinCount=1,\n",
    "            MaxCount=1,\n",
    "            InstanceType=instance_type,\n",
    "            UserData=user_data_script,\n",
    "            SecurityGroupIds=security_group_ids,\n",
    "            KeyName=key_name,\n",
    "            TagSpecifications=[\n",
    "                {\n",
    "                    'ResourceType': 'instance',\n",
    "                    'Tags': [\n",
    "                        {\n",
    "                            'Key': 'Name',\n",
    "                            'Value': instance_name,\n",
    "                        },\n",
    "                    ],\n",
    "                },\n",
    "            ],\n",
    "        )['Instances']\n",
    "\n",
    "        instance_id = instances[0]['InstanceId']\n",
    "        print(f\"Instance {instance_id} ({instance_name}) created, waiting for it to run...\")\n",
    "        \n",
    "        ec2.get_waiter('instance_running').wait(InstanceIds=[instance_id])\n",
    "        print(f\"Instance {instance_id} ({instance_name}) is running.\")\n",
    "        instance_description = ec2.describe_instances(InstanceIds=[instance_id])\n",
    "        time.sleep(60)\n",
    "        return instance_description['Reservations'][0]['Instances'][0]\n",
    "        \n",
    "    except Exception as e:\n",
    "        print(f\"Error creating EC2 instance: {e}\")\n",
    "        return None"
   ]
  },
  {
   "cell_type": "markdown",
   "metadata": {},
   "source": [
    "The next function serves as a utility for uploading our files to the instances we launched "
   ]
  },
  {
   "cell_type": "code",
   "execution_count": 6,
   "metadata": {},
   "outputs": [],
   "source": [
    "def upload_script(ec2, instance_id, script_local_path, key_path):\n",
    "    instance_description = ec2.describe_instances(InstanceIds=[instance_id])\n",
    "    DNS = instance_description['Reservations'][0]['Instances'][0]['PublicDnsName']\n",
    "\n",
    "    scp_command = f\"scp -o StrictHostKeyChecking=no -i {key_path} {script_local_path} ec2-user@{DNS}:/home/ec2-user/\"\n",
    "    scp_result = subprocess.run(scp_command, shell=True, stdout=subprocess.PIPE, stderr=subprocess.PIPE, text=True)\n",
    "\n",
    "    if scp_result.returncode != 0:\n",
    "        print(\"SCP Error (stdout):\", scp_result.stdout)\n",
    "        print(\"SCP Error (stderr):\", scp_result.stderr)\n",
    "        return False\n",
    "    time.sleep(5) \n",
    "    return True"
   ]
  },
  {
   "cell_type": "markdown",
   "metadata": {},
   "source": [
    "The next function is meant for the remote execution of the programs we have sent to the instances "
   ]
  },
  {
   "cell_type": "code",
   "execution_count": 7,
   "metadata": {},
   "outputs": [],
   "source": [
    "def execute_script(ec2, instance_id, key_path, execution_file):\n",
    "    instance_description = ec2.describe_instances(InstanceIds=[instance_id])\n",
    "    DNS = instance_description['Reservations'][0]['Instances'][0]['PublicDnsName']\n",
    "\n",
    "    # Execute the script immediately\n",
    "    ssh_command = f\"ssh -o StrictHostKeyChecking=no -i \\\"{key_path}\\\" ec2-user@{DNS} \\\"/usr/bin/python3 /home/ec2-user/{execution_file} > /home/ec2-user/execute.log 2>&1 &\\\"\"\n",
    "\n",
    "    ssh_result = subprocess.run(ssh_command, shell=True, stdout=subprocess.PIPE, stderr=subprocess.PIPE, text=True)\n",
    "\n",
    "    if ssh_result.returncode != 0:\n",
    "        print(\"Execution Error (stdout):\", ssh_result.stdout)\n",
    "        print(\"Execution Error (stderr):\", ssh_result.stderr)\n",
    "        return False\n",
    "    \n",
    "    return True"
   ]
  },
  {
   "cell_type": "markdown",
   "metadata": {},
   "source": [
    "This function automates the setup and deployment of an application on an EC2 instance, including uploading the application, configuring the environment, and running the application as a background process"
   ]
  },
  {
   "cell_type": "code",
   "execution_count": 8,
   "metadata": {},
   "outputs": [],
   "source": [
    "def setup_ClientApp(instance, app_zip_path, public_ip):\n",
    "    try:\n",
    "        key = paramiko.RSAKey.from_private_key_file('C:/Users/elkar/Downloads/labsuser.pem')\n",
    "        client = paramiko.SSHClient()\n",
    "        client.set_missing_host_key_policy(paramiko.AutoAddPolicy())\n",
    "\n",
    "        DNS = instance['PublicDnsName']\n",
    "        client.connect(hostname=DNS, username='ec2-user', pkey=key)\n",
    "\n",
    "        sftp = client.open_sftp()\n",
    "        sftp.put(app_zip_path, '/home/ec2-user/ClientApp.zip')\n",
    "        sftp.close()\n",
    "\n",
    "        commands = [\n",
    "            'sudo yum update -y',\n",
    "            'sudo yum install python3 python3-pip unzip -y',\n",
    "            'unzip /home/ec2-user/ClientApp.zip -d /home/ec2-user/app/',\n",
    "            'pip3 install --user -r /home/ec2-user/app/ClientApp/requirements.txt'\n",
    "        ]\n",
    "        for command in commands:\n",
    "            stdin, stdout, stderr = client.exec_command(command)\n",
    "            print(stdout.read())\n",
    "\n",
    "        print(f\"Application deployed. Access it at http://{public_ip}:8501\")   \n",
    "        client.exec_command('nohup python3 /home/ec2-user/app/ClientApp/App.py > app.log 2>&1 &')\n",
    "        time.sleep(5)\n",
    "\n",
    "        client.close()\n",
    "        return True  # Indicate successful completion\n",
    "    except Exception as e:\n",
    "        print(f\"Error setting up ClientApp instance: {e}\")\n",
    "        return False"
   ]
  },
  {
   "cell_type": "markdown",
   "metadata": {},
   "source": [
    "Now that we have defined the necessary libraries we will proceed to the main method of our class that It creates a distributed computing environment where the 'Master' instance manages tasks, the 'Worker' instances perform computations, and the 'ClientApp' serves an application"
   ]
  },
  {
   "cell_type": "code",
   "execution_count": 9,
   "metadata": {},
   "outputs": [
    {
     "name": "stdout",
     "output_type": "stream",
     "text": [
      "Queue 'RequestSend' created successfully. URL: https://sqs.us-east-1.amazonaws.com/513771522821/RequestSend\n",
      "Queue 'RequestReceive' created successfully. URL: https://sqs.us-east-1.amazonaws.com/513771522821/RequestReceive\n",
      "Instance i-0413074ba0dc2507e (Master) created, waiting for it to run...\n",
      "Instance i-0413074ba0dc2507e (Master) is running.\n",
      "Script uploaded and executed on the 'Master' instance.\n",
      "Instance i-067af6687d7f4ccd4 (ClientApp) created, waiting for it to run...\n",
      "Instance i-067af6687d7f4ccd4 (ClientApp) is running.\n",
      "b'Last metadata expiration check: 0:00:55 ago on Sun Dec 31 02:00:50 2023.\\nDependencies resolved.\\nNothing to do.\\nComplete!\\n'\n",
      "b'Last metadata expiration check: 0:00:56 ago on Sun Dec 31 02:00:50 2023.\\nPackage python3-3.9.16-1.amzn2023.0.6.x86_64 is already installed.\\nPackage unzip-6.0-57.amzn2023.0.2.x86_64 is already installed.\\nDependencies resolved.\\n================================================================================\\n Package             Arch      Version                     Repository      Size\\n================================================================================\\nInstalling:\\n python3-pip         noarch    21.3.1-2.amzn2023.0.7       amazonlinux    1.8 M\\nInstalling weak dependencies:\\n libxcrypt-compat    x86_64    4.4.33-7.amzn2023           amazonlinux     92 k\\n\\nTransaction Summary\\n================================================================================\\nInstall  2 Packages\\n\\nTotal download size: 1.9 M\\nInstalled size: 11 M\\nDownloading Packages:\\n(1/2): libxcrypt-compat-4.4.33-7.amzn2023.x86_6 1.5 MB/s |  92 kB     00:00    \\n(2/2): python3-pip-21.3.1-2.amzn2023.0.7.noarch  19 MB/s | 1.8 MB     00:00    \\n--------------------------------------------------------------------------------\\nTotal                                            12 MB/s | 1.9 MB     00:00     \\nRunning transaction check\\nTransaction check succeeded.\\nRunning transaction test\\nTransaction test succeeded.\\nRunning transaction\\n  Preparing        :                                                        1/1 \\n  Installing       : libxcrypt-compat-4.4.33-7.amzn2023.x86_64              1/2 \\n  Installing       : python3-pip-21.3.1-2.amzn2023.0.7.noarch               2/2 \\n  Running scriptlet: python3-pip-21.3.1-2.amzn2023.0.7.noarch               2/2 \\n  Verifying        : libxcrypt-compat-4.4.33-7.amzn2023.x86_64              1/2 \\n  Verifying        : python3-pip-21.3.1-2.amzn2023.0.7.noarch               2/2 \\n\\nInstalled:\\n  libxcrypt-compat-4.4.33-7.amzn2023.x86_64                                     \\n  python3-pip-21.3.1-2.amzn2023.0.7.noarch                                      \\n\\nComplete!\\n'\n",
      "b'Archive:  /home/ec2-user/ClientApp.zip\\n   creating: /home/ec2-user/app/ClientApp/\\n  inflating: /home/ec2-user/app/ClientApp/App.py  \\n extracting: /home/ec2-user/app/ClientApp/Procfile  \\n  inflating: /home/ec2-user/app/ClientApp/requirements.txt  \\n   creating: /home/ec2-user/app/ClientApp/static/\\n   creating: /home/ec2-user/app/ClientApp/static/css/\\n  inflating: /home/ec2-user/app/ClientApp/static/css/Request.css  \\n   creating: /home/ec2-user/app/ClientApp/static/images/\\n   creating: /home/ec2-user/app/ClientApp/static/js/\\n  inflating: /home/ec2-user/app/ClientApp/static/js/Request.js  \\n   creating: /home/ec2-user/app/ClientApp/templates/\\n  inflating: /home/ec2-user/app/ClientApp/templates/Request.html  \\n'\n",
      "b'Collecting Flask==2.0.1\\n  Downloading Flask-2.0.1-py3-none-any.whl (94 kB)\\nCollecting Werkzeug==2.0.0\\n  Downloading Werkzeug-2.0.0-py3-none-any.whl (288 kB)\\nCollecting boto3==1.17.44\\n  Downloading boto3-1.17.44-py2.py3-none-any.whl (131 kB)\\nCollecting flask-cors==3.0.10\\n  Downloading Flask_Cors-3.0.10-py2.py3-none-any.whl (14 kB)\\nCollecting itsdangerous>=2.0\\n  Downloading itsdangerous-2.1.2-py3-none-any.whl (15 kB)\\nCollecting Jinja2>=3.0\\n  Downloading Jinja2-3.1.2-py3-none-any.whl (133 kB)\\nCollecting click>=7.1.2\\n  Downloading click-8.1.7-py3-none-any.whl (97 kB)\\nCollecting s3transfer<0.4.0,>=0.3.0\\n  Downloading s3transfer-0.3.7-py2.py3-none-any.whl (73 kB)\\nRequirement already satisfied: jmespath<1.0.0,>=0.7.1 in /usr/lib/python3.9/site-packages (from boto3==1.17.44->-r /home/ec2-user/app/ClientApp/requirements.txt (line 3)) (0.10.0)\\nCollecting botocore<1.21.0,>=1.20.44\\n  Downloading botocore-1.20.112-py2.py3-none-any.whl (7.7 MB)\\nRequirement already satisfied: Six in /usr/lib/python3.9/site-packages (from flask-cors==3.0.10->-r /home/ec2-user/app/ClientApp/requirements.txt (line 4)) (1.15.0)\\nRequirement already satisfied: python-dateutil<3.0.0,>=2.1 in /usr/lib/python3.9/site-packages (from botocore<1.21.0,>=1.20.44->boto3==1.17.44->-r /home/ec2-user/app/ClientApp/requirements.txt (line 3)) (2.8.1)\\nRequirement already satisfied: urllib3<1.27,>=1.25.4 in /usr/lib/python3.9/site-packages (from botocore<1.21.0,>=1.20.44->boto3==1.17.44->-r /home/ec2-user/app/ClientApp/requirements.txt (line 3)) (1.25.10)\\nCollecting MarkupSafe>=2.0\\n  Downloading MarkupSafe-2.1.3-cp39-cp39-manylinux_2_17_x86_64.manylinux2014_x86_64.whl (25 kB)\\nInstalling collected packages: MarkupSafe, Werkzeug, Jinja2, itsdangerous, click, botocore, s3transfer, Flask, flask-cors, boto3\\nSuccessfully installed Flask-2.0.1 Jinja2-3.1.2 MarkupSafe-2.1.3 Werkzeug-2.0.0 boto3-1.17.44 botocore-1.20.112 click-8.1.7 flask-cors-3.0.10 itsdangerous-2.1.2 s3transfer-0.3.7\\n'\n",
      "Application deployed. Access it at http://3.90.185.123:8501\n",
      "'ClientApp' instance setup completed successfully.\n",
      "Instance i-040ae20b129e4f0d5 (Worker) created, waiting for it to run...\n",
      "Instance i-040ae20b129e4f0d5 (Worker) is running.\n",
      "Script uploaded and executed on the 'Worker' instance .\n",
      "Instance i-063a72ee8a74d2985 (Test_Instance) created, waiting for it to run...\n",
      "Instance i-063a72ee8a74d2985 (Test_Instance) is running.\n",
      "Script uploaded and executed on the 'Test_Instance' instance.\n"
     ]
    }
   ],
   "source": [
    "def main():\n",
    "    ec2 = boto3.client('ec2', region_name='us-east-1')\n",
    "    dynamoDB = boto3.resource('dynamodb', region_name='us-east-1')\n",
    "    SQS = boto3.client('sqs', region_name='us-east-1')\n",
    "    \n",
    "    ami_id = 'ami-079db87dc4c10ac91'  # Replace with your AMI ID\n",
    "    instance_type = 't2.micro'\n",
    "    security_group_ids = ['sg-0e517e6668cedabd3']  # Replace with your security group ID\n",
    "    key_name = 'vockey'  # Replace with your key name\n",
    "    key_path = 'C:/Users/elkar/Downloads/labsuser.pem'  # Replace with your key path\n",
    "\n",
    "    # User data scripts\n",
    "    user_data_master = '''#!/bin/bash\n",
    "                          sudo yum update -y\n",
    "                          sudo yum install python3 python3-pip -y \n",
    "                          sudo yum install cronie -y\n",
    "                          sudo service crond start\n",
    "                          sudo chkconfig crond on\n",
    "                          sudo pip3 install requests boto3\n",
    "                          '''  # User data for 'Master' instance\n",
    "\n",
    "    user_data_client_load = '''#!/bin/bash\n",
    "                               sudo yum update -y\n",
    "                               sudo yum install python3 python3-pip -y\n",
    "                               sudo pip3 install requests boto3\n",
    "                               '''  # User data for 'Test_Instance' instance\n",
    "\n",
    "    # Create DynamoDB table\n",
    "    create_DB(dynamoDB)\n",
    "\n",
    "    # Create SQS queues\n",
    "    request_send_queue_url = create_sqs_queue(SQS, 'RequestSend')\n",
    "    request_receive_queue_url = create_sqs_queue(SQS, 'RequestReceive')\n",
    "\n",
    "    # Launch and set up the 'Master' EC2 instance\n",
    "    master_instance = create_instance(ec2, ami_id, instance_type, security_group_ids, key_name, user_data_master, 'Master')\n",
    "    if master_instance:\n",
    "        if upload_script(ec2, master_instance['InstanceId'], 'C:/Users/elkar/Downloads/430915_CC_Code/Master_Instance/master.py', key_path):\n",
    "            if execute_script(ec2, master_instance['InstanceId'], key_path, 'master.py'):\n",
    "                print(\"Script uploaded and executed on the 'Master' instance.\")\n",
    "            else:\n",
    "                print(\"Failed to execute script on the 'Master' instance.\")\n",
    "        else:\n",
    "            print(\"Failed to upload script to the 'Master' instance.\")\n",
    "    time.sleep(100)\n",
    "\n",
    "    # Launch and set up the 'ClientApp' EC2 instance after 'Master' instance\n",
    "    client_app_zip_path = 'C:/Users/elkar/Downloads/430915_CC_Code/ClientApp.zip'\n",
    "    client_app_instance = create_instance(ec2, ami_id, instance_type, security_group_ids, key_name, '', 'ClientApp')\n",
    "    if client_app_instance:\n",
    "        public_ip = client_app_instance.get('PublicIpAddress')\n",
    "        if setup_ClientApp(client_app_instance, client_app_zip_path, public_ip):\n",
    "            print(f\"'ClientApp' instance setup completed successfully.\")\n",
    "        else:\n",
    "            raise Exception(\"Failed to set up 'ClientApp' instance.\")\n",
    "    else:\n",
    "        raise Exception(\"Failed to create 'ClientApp' instance.\")\n",
    "     \n",
    "    # Launch and set up the 'Worker' EC2 instance after 'Master' instance\n",
    "    worker_instance = create_instance(ec2, ami_id, instance_type, security_group_ids, key_name, user_data_client_load, 'Worker')\n",
    "    if worker_instance:\n",
    "        if upload_script(ec2, worker_instance['InstanceId'], 'C:/Users/elkar/Downloads/430915_CC_Code/Worker_node/Worker.py', key_path):\n",
    "            if execute_script(ec2, worker_instance['InstanceId'], key_path, 'Worker.py'):\n",
    "                print(\"Script uploaded and executed on the 'Worker' instance .\")\n",
    "            else:\n",
    "                print(\"Failed to execute script on the 'Worker' instance.\")\n",
    "        else:\n",
    "            print(\"Failed to upload script to the 'Worker' instance.\")    \n",
    "        \n",
    "    # Launch and set up the 'Test_Instance' EC2 instance\n",
    "    client_load_instance = create_instance(ec2, ami_id, instance_type, security_group_ids, key_name, user_data_client_load, 'Test_Instance')\n",
    "    if client_load_instance:\n",
    "        if upload_script(ec2, client_load_instance['InstanceId'], 'C:/Users/elkar/Downloads/430915_CC_Code/Test_Instance/TestPerformance.py', key_path):\n",
    "            if execute_script(ec2, client_load_instance['InstanceId'], key_path, 'TestPerformance.py'):\n",
    "                print(\"Script uploaded and executed on the 'Test_Instance' instance.\")\n",
    "            else:\n",
    "                print(\"Failed to execute script on the 'Test_Instance' instance.\")\n",
    "        else:\n",
    "            print(\"Failed to upload script to the 'Test_Instance' instance.\")\n",
    "\n",
    "if __name__ == '__main__':\n",
    "    main()\n",
    " "
   ]
  }
 ],
 "metadata": {
  "kernelspec": {
   "display_name": "Python 3",
   "language": "python",
   "name": "python3"
  },
  "language_info": {
   "codemirror_mode": {
    "name": "ipython",
    "version": 3
   },
   "file_extension": ".py",
   "mimetype": "text/x-python",
   "name": "python",
   "nbconvert_exporter": "python",
   "pygments_lexer": "ipython3",
   "version": "3.12.0"
  }
 },
 "nbformat": 4,
 "nbformat_minor": 2
}
